{
 "cells": [
  {
   "cell_type": "code",
   "execution_count": 21,
   "metadata": {},
   "outputs": [],
   "source": [
    "class stack(object):\n",
    "    def __init__(self):\n",
    "        self.__list = []\n",
    "        \n",
    "    def push(self, item):\n",
    "        '''栈顶加元素'''\n",
    "        self.__list.append(item)\n",
    "        \n",
    "    def pop(self):\n",
    "        '''栈顶弹出元素'''   \n",
    "        if not self.is_empty():\n",
    "            return self.__list.pop()\n",
    "        \n",
    "    def peek(self):\n",
    "        '''栈顶查看元素'''\n",
    "        if self.__list:\n",
    "            return self.__list[-1]\n",
    "        else:\n",
    "            return None\n",
    "                \n",
    "    def is_empty(self):\n",
    "        '''判断是否为空'''    \n",
    "        if self.__list == []:\n",
    "            return True\n",
    "        else:\n",
    "            return False\n",
    "        #逻辑值为0的有   0 {} () []  \n",
    "        \n",
    "    def size(self):\n",
    "        '''计算栈的长度'''        \n",
    "        return len(self.__list)\n",
    "m = stack()\n",
    "m.push(1)\n",
    "m.push(2)\n",
    "m.push(3)"
   ]
  },
  {
   "cell_type": "code",
   "execution_count": 23,
   "metadata": {},
   "outputs": [],
   "source": [
    "for i in range(3):\n",
    "    m.pop()"
   ]
  },
  {
   "cell_type": "code",
   "execution_count": 26,
   "metadata": {},
   "outputs": [],
   "source": [
    "m.push(3)\n",
    "m.push(3)\n",
    "m.push(3)"
   ]
  },
  {
   "cell_type": "code",
   "execution_count": 27,
   "metadata": {},
   "outputs": [
    {
     "data": {
      "text/plain": [
       "False"
      ]
     },
     "execution_count": 27,
     "metadata": {},
     "output_type": "execute_result"
    }
   ],
   "source": [
    "m.is_empty()"
   ]
  },
  {
   "cell_type": "code",
   "execution_count": 28,
   "metadata": {},
   "outputs": [
    {
     "data": {
      "text/plain": [
       "3"
      ]
     },
     "execution_count": 28,
     "metadata": {},
     "output_type": "execute_result"
    }
   ],
   "source": [
    "m.pop()"
   ]
  },
  {
   "cell_type": "code",
   "execution_count": 29,
   "metadata": {},
   "outputs": [],
   "source": [
    "class Queue(object):\n",
    "    def __init__(self):\n",
    "        self.__list = []\n",
    "        \n",
    "    def enqueue(self, item):\n",
    "        '''列队中添加元素，这里用列表尾部添加，'''\n",
    "        self.__list.append(item)\n",
    "        \n",
    "    def dequeue(self):\n",
    "        '''列队头部删除元素'''   \n",
    "        if not self.is_empty():\n",
    "            return self.__list.pop(0)\n",
    "                \n",
    "    def is_empty(self):\n",
    "        '''判断是否为空'''    \n",
    "        if self.__list == []:\n",
    "            return True\n",
    "        else:\n",
    "            return False\n",
    "        #逻辑值为0的有   0 {} () []  \n",
    "        \n",
    "    def size(self):\n",
    "        '''计算栈的长度'''        \n",
    "        return len(self.__list)"
   ]
  },
  {
   "cell_type": "code",
   "execution_count": 65,
   "metadata": {},
   "outputs": [],
   "source": [
    "class Dueue(object):\n",
    "    def __init__(self):\n",
    "        self.__list = []\n",
    "        \n",
    "    def add_front(self, item):\n",
    "        self.__list.insert(0, item)\n",
    "        \n",
    "    def add_rear(self, item):\n",
    "        '''列队中添加元素，这里用列表尾部添加，'''\n",
    "        self.__list.append(item)\n",
    "        \n",
    "    def pop_front(self):\n",
    "        '''列队头部删除元素'''   \n",
    "        if not self.is_empty():\n",
    "            return self.__list.pop(0)\n",
    "        \n",
    "    def pop_rear(self):\n",
    "        '''列对尾部部删除元素'''   \n",
    "        if not self.is_empty():\n",
    "            return self.__list.pop()\n",
    "                        \n",
    "    def is_empty(self):\n",
    "        '''判断是否为空'''    \n",
    "        if self.__list == []:\n",
    "            return True\n",
    "        else:\n",
    "            return False\n",
    "        #逻辑值为0的有   0 {} () []  \n",
    "        \n",
    "    def size(self):\n",
    "        '''计算栈的长度'''        \n",
    "        return len(self.__list)"
   ]
  },
  {
   "cell_type": "code",
   "execution_count": 66,
   "metadata": {},
   "outputs": [],
   "source": [
    "m  = Dueue()\n",
    "m.add_front(3)\n",
    "m.add_front(2)\n",
    "m.add_front(1)"
   ]
  },
  {
   "cell_type": "code",
   "execution_count": 68,
   "metadata": {},
   "outputs": [
    {
     "data": {
      "text/plain": [
       "3"
      ]
     },
     "execution_count": 68,
     "metadata": {},
     "output_type": "execute_result"
    }
   ],
   "source": [
    "m.pop_rear()"
   ]
  },
  {
   "cell_type": "code",
   "execution_count": 69,
   "metadata": {},
   "outputs": [
    {
     "data": {
      "text/plain": [
       "2"
      ]
     },
     "execution_count": 69,
     "metadata": {},
     "output_type": "execute_result"
    }
   ],
   "source": [
    "m.size()"
   ]
  },
  {
   "cell_type": "code",
   "execution_count": null,
   "metadata": {},
   "outputs": [],
   "source": []
  },
  {
   "cell_type": "code",
   "execution_count": null,
   "metadata": {},
   "outputs": [],
   "source": []
  }
 ],
 "metadata": {
  "kernelspec": {
   "display_name": "Python 3",
   "language": "python",
   "name": "python3"
  },
  "language_info": {
   "codemirror_mode": {
    "name": "ipython",
    "version": 3
   },
   "file_extension": ".py",
   "mimetype": "text/x-python",
   "name": "python",
   "nbconvert_exporter": "python",
   "pygments_lexer": "ipython3",
   "version": "3.6.4"
  },
  "toc": {
   "base_numbering": 1,
   "nav_menu": {},
   "number_sections": true,
   "sideBar": true,
   "skip_h1_title": false,
   "title_cell": "Table of Contents",
   "title_sidebar": "Contents",
   "toc_cell": false,
   "toc_position": {},
   "toc_section_display": true,
   "toc_window_display": false
  }
 },
 "nbformat": 4,
 "nbformat_minor": 2
}
