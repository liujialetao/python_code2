{
 "cells": [
  {
   "cell_type": "code",
   "execution_count": 2,
   "metadata": {},
   "outputs": [
    {
     "name": "stdout",
     "output_type": "stream",
     "text": [
      "3 \n",
      "1 2 3 \n",
      "0 1 2 3 4 \n",
      "-1 0 1 2 3 4 5 \n"
     ]
    }
   ],
   "source": [
    "class Node(object):\n",
    "    '''节点'''\n",
    "    def __init__(self, elem, next = None):\n",
    "        self.elem = elem\n",
    "        self.next = None\n",
    "\n",
    "class SingleLinkList(object):\n",
    "    '''单链表'''\n",
    "    def __init__(self, node=None):\n",
    "        self.__head = node\n",
    "    \n",
    "    def is_empty(self):\n",
    "        '''链表长度'''\n",
    "        return self.__head == None\n",
    "    \n",
    "    def length(self):\n",
    "        '''链表长度'''\n",
    "        cur = self.__head\n",
    "        count = 0\n",
    "        while cur != None:\n",
    "            count += 1\n",
    "            cur = cur.next\n",
    "        return count\n",
    "            \n",
    "    def travel(self):\n",
    "        '''遍历整个链表'''\n",
    "        cur = self.__head\n",
    "        while cur != None:\n",
    "            print(cur.elem, end=' ')\n",
    "            cur = cur.next\n",
    "        print()\n",
    "        \n",
    "    def add(self, item):\n",
    "        '''链表头部增加元素'''\n",
    "        node = Node(item)\n",
    "        node.next = self.__head\n",
    "        self.__head = node\n",
    "    \n",
    "    def append(self, item):\n",
    "        '''链表尾部增加元素'''\n",
    "        node = Node(item)\n",
    "        if self.is_empty():\n",
    "            self.__head = node\n",
    "        else:\n",
    "            cur = self.__head\n",
    "            while cur.next != None:\n",
    "                cur = cur.next\n",
    "            cur.next = node    \n",
    "           \n",
    "    def insert(self, pos, item):\n",
    "        if pos <= 0:\n",
    "            self.add(item)\n",
    "        #下面包括了pos=1,只有一个节点的情况  1> 1-1 \n",
    "        elif pos > (self.length()-1):\n",
    "            self.append(item)\n",
    "        else:\n",
    "            #指针cur、count指向头结点\n",
    "            pre = self.__head\n",
    "            count = 0\n",
    "            node = Node(item)            \n",
    "            while count < (pos-1):\n",
    "                pre = pre.next\n",
    "                count += 1\n",
    "            node.next = pre.next\n",
    "            pre.next = node\n",
    "          \n",
    "    def remove(self, item): \n",
    "        prev = None            #prev为了操作要删除元素前一个元素的指针，使指针指向下下个元素\n",
    "        cur = self.__head\n",
    "        while cur != None:\n",
    "            if cur.elem == item:\n",
    "                #如果item是头结点，prev指向cur\n",
    "                if cur == self.__head:\n",
    "                    self.__head = cur.next\n",
    "                else:\n",
    "                    prev.next = cur.next\n",
    "            #如果找到了要删除的元素，退出循环        \n",
    "                break\n",
    "            else:\n",
    "                prev = cur\n",
    "                cur = cur.next\n",
    "\n",
    "    def search(self, item):\n",
    "        '''查找链表中的第一个元素'''\n",
    "        cur = self.__head\n",
    "        while cur != None:\n",
    "            if cur.elem == item:\n",
    "                return True\n",
    "            else:\n",
    "                cur = cur.next\n",
    "        return False\n",
    "           \n",
    "    \n",
    "if __name__ == \"__main__\":\n",
    "    m = SingleLinkList()\n",
    "    m.insert(0,3)\n",
    "    m.travel()\n",
    "\n",
    "    m.add(2)\n",
    "    m.add(1)\n",
    "    m.travel()\n",
    "\n",
    "    m.append(4)\n",
    "    m.add(0)\n",
    "    m.travel()\n",
    "\n",
    "    m.append(5)\n",
    "    m.add(-1)\n",
    "    m.travel()"
   ]
  },
  {
   "cell_type": "code",
   "execution_count": 35,
   "metadata": {},
   "outputs": [
    {
     "name": "stdout",
     "output_type": "stream",
     "text": [
      "-1 0 1 2 3 5 \n"
     ]
    }
   ],
   "source": [
    "m.remove(4)\n",
    "m.travel()"
   ]
  },
  {
   "cell_type": "code",
   "execution_count": 46,
   "metadata": {},
   "outputs": [
    {
     "name": "stdout",
     "output_type": "stream",
     "text": [
      "3 \n",
      "1 2 3 \n",
      "0 1 2 3 4 \n",
      "-1 0 1 2 3 4 5 \n"
     ]
    }
   ],
   "source": [
    "class Node(object):\n",
    "    '''节点'''\n",
    "    def __init__(self, elem, next = None, prev = None):\n",
    "        self.elem = elem\n",
    "        self.next = next\n",
    "        self.prev = prev\n",
    "        \n",
    "class DoubleLinkList(object):\n",
    "    '''双链表'''\n",
    "    def __init__(self, node=None):\n",
    "        self._head = node\n",
    "    \n",
    "    def is_empty(self):\n",
    "        '''链表长度'''\n",
    "        return self._head == None\n",
    "    \n",
    "    def length(self):\n",
    "        '''链表长度'''\n",
    "        cur = self._head\n",
    "        count = 0\n",
    "        while cur != None:\n",
    "            count += 1\n",
    "            cur = cur.next\n",
    "        return count\n",
    "            \n",
    "    def travel(self):\n",
    "        '''遍历整个链表'''\n",
    "        cur = self._head\n",
    "        while cur != None:\n",
    "            print(cur.elem, end=' ')\n",
    "            cur = cur.next\n",
    "        print()\n",
    "    \n",
    "    def add(self, item):\n",
    "        '''链表头部增加元素'''\n",
    "        node = Node(item)\n",
    "        #如果是空链表\n",
    "        if self.is_empty():\n",
    "            self._head  = node \n",
    "        #如果不是空链表\n",
    "        else:\n",
    "            self._head.prev  = node\n",
    "            node.next = self._head\n",
    "            self._head = node\n",
    "\n",
    "    def append(self, item):\n",
    "        '''链表尾部增加元素'''\n",
    "        node = Node(item)\n",
    "        if self.is_empty():\n",
    "            self._head = node\n",
    "        else:\n",
    "            cur = self._head\n",
    "            while cur.next != None:\n",
    "                cur = cur.next\n",
    "            cur.next = node\n",
    "            node.prev = cur\n",
    "            \n",
    "    def insert(self, pos, item):\n",
    "        if pos <= 0:\n",
    "            self.add(item)\n",
    "        #下面包括了pos=1,只有一个节点的情况  1> 1-1 \n",
    "        elif pos > (self.length()-1):\n",
    "            self.append(item)\n",
    "        else:\n",
    "            #指针cur、count指向头结点\n",
    "            cur = self._head\n",
    "            count = 0\n",
    "            #while退出循环后，cur指向当前需要插入的位置\n",
    "            while count < pos:\n",
    "                cur = cur.next\n",
    "                count += 1\n",
    "            node = Node(item)\n",
    "            node.next = cur\n",
    "            node.prev = cur.prev\n",
    "            cur.prev.next = node\n",
    "            cur.prev = node\n",
    "                    \n",
    "    def remove(self, item): \n",
    "            cur = self._head\n",
    "            while cur != None:\n",
    "                if cur.elem == item:\n",
    "                    if cur == self._head:\n",
    "                        self._head = cur.next\n",
    "                        #如果只有一个节点\n",
    "                        if cur.next:\n",
    "                            cur.next.prev = None\n",
    "                    else:\n",
    "                        cur.prev.next = cur.next\n",
    "                        if cur.next:\n",
    "                            cur.next.prev = cur.prev\n",
    "                #如果找到了要删除的元素，退出循环        \n",
    "                    break\n",
    "                else:\n",
    "                    cur = cur.next\n",
    "        \n",
    "    def search(self, item):\n",
    "        '''查找链表中的第一个元素'''\n",
    "        cur = self._head\n",
    "        while cur != None:\n",
    "            if cur.elem == item:\n",
    "                return True\n",
    "            else:\n",
    "                cur = cur.next\n",
    "        return False\n",
    "\n",
    "if __name__ == \"__main__\":\n",
    "    m = DoubleLinkList()\n",
    "    m.add(3)\n",
    "    m.travel()\n",
    "\n",
    "    m.add(2)\n",
    "    m.add(1)\n",
    "    m.travel()\n",
    "\n",
    "    m.append(4)\n",
    "    m.add(0)\n",
    "    m.travel()\n",
    "\n",
    "    m.append(5)\n",
    "    m.add(-1)\n",
    "    m.travel()"
   ]
  },
  {
   "cell_type": "code",
   "execution_count": 47,
   "metadata": {},
   "outputs": [
    {
     "name": "stdout",
     "output_type": "stream",
     "text": [
      "-1 0 1 2 3 4 \n"
     ]
    }
   ],
   "source": [
    "m.remove(5)\n",
    "m.travel()"
   ]
  },
  {
   "cell_type": "code",
   "execution_count": 48,
   "metadata": {},
   "outputs": [
    {
     "name": "stdout",
     "output_type": "stream",
     "text": [
      "-1 0 1 3 4 \n"
     ]
    }
   ],
   "source": [
    "m.remove(2)\n",
    "m.travel()"
   ]
  },
  {
   "cell_type": "code",
   "execution_count": 49,
   "metadata": {},
   "outputs": [
    {
     "name": "stdout",
     "output_type": "stream",
     "text": [
      "2 -1 0 1 3 4 \n"
     ]
    }
   ],
   "source": [
    "m.add(2)\n",
    "m.travel()"
   ]
  },
  {
   "cell_type": "code",
   "execution_count": 50,
   "metadata": {},
   "outputs": [
    {
     "name": "stdout",
     "output_type": "stream",
     "text": [
      "2 2 -1 0 1 3 4 \n"
     ]
    }
   ],
   "source": [
    "m.add(2)\n",
    "m.travel()"
   ]
  },
  {
   "cell_type": "code",
   "execution_count": 51,
   "metadata": {},
   "outputs": [
    {
     "name": "stdout",
     "output_type": "stream",
     "text": [
      "2 -1 0 1 3 4 \n"
     ]
    }
   ],
   "source": [
    "m.remove(2)\n",
    "m.travel()"
   ]
  },
  {
   "cell_type": "code",
   "execution_count": 52,
   "metadata": {},
   "outputs": [
    {
     "name": "stdout",
     "output_type": "stream",
     "text": [
      "3 \n"
     ]
    }
   ],
   "source": [
    "m = DoubleLinkList()\n",
    "m.add(3)\n",
    "m.travel()"
   ]
  },
  {
   "cell_type": "code",
   "execution_count": 53,
   "metadata": {},
   "outputs": [
    {
     "name": "stdout",
     "output_type": "stream",
     "text": [
      "\n"
     ]
    }
   ],
   "source": [
    "m.remove(3)\n",
    "m.travel()"
   ]
  },
  {
   "cell_type": "code",
   "execution_count": 105,
   "metadata": {},
   "outputs": [
    {
     "name": "stdout",
     "output_type": "stream",
     "text": [
      "length: 7\n",
      "0 1 1 2 3 4 5\n"
     ]
    }
   ],
   "source": [
    "class Node(object):\n",
    "    '''节点'''\n",
    "    def __init__(self, elem, next = None):\n",
    "        self.elem = elem\n",
    "        self.next = None\n",
    "\n",
    "class SingleCycleLink(object):\n",
    "    '''单链表'''\n",
    "    def __init__(self, node=None):\n",
    "        self._head = node\n",
    "        \n",
    "    def is_empty(self):\n",
    "        '''链表长度'''\n",
    "        return self._head == None\n",
    "    \n",
    "    def length(self):\n",
    "        '''链表长度'''\n",
    "        if self.is_empty():\n",
    "            return 0\n",
    "        else:\n",
    "            count =1\n",
    "            cur = self._head\n",
    "            while cur.next != self._head:\n",
    "                count += 1\n",
    "                cur = cur.next\n",
    "            return count\n",
    "            \n",
    "    def travel(self):\n",
    "        '''遍历整个链表'''\n",
    "        if self.is_empty():\n",
    "            return\n",
    "        else:\n",
    "            cur = self._head            \n",
    "            while cur.next != self._head:\n",
    "                print(cur.elem, end=' ')\n",
    "                cur = cur.next\n",
    "            print(cur.elem)\n",
    "        \n",
    "    def add(self, item):\n",
    "        '''链表头部增加元素'''\n",
    "        node = Node(item)\n",
    "        \n",
    "        if self.is_empty():\n",
    "            self._head = node\n",
    "            node.next = node            \n",
    "        else:          \n",
    "            cur = self._head           \n",
    "            while cur.next != self._head:\n",
    "                cur = cur.next\n",
    "            \n",
    "            node.next = self._head\n",
    "            self._head = node\n",
    "            cur.next = node\n",
    "                            \n",
    "    def append(self, item):\n",
    "        '''链表尾部增加元素'''\n",
    "        node = Node(item)        \n",
    "        if self.is_empty():\n",
    "            self._head = node\n",
    "            node.next = node\n",
    "        else:\n",
    "            cur = self._head\n",
    "            while cur.next != self._head:\n",
    "                cur = cur.next\n",
    "            cur.next = node \n",
    "            node.next = self._head\n",
    "           \n",
    "    def insert(self, pos, item):\n",
    "        if pos <= 0:\n",
    "            self.add(item)\n",
    "        #下面包括了pos=1,只有一个节点的情况  1> 1-1 \n",
    "        elif pos > (self.length()-1):\n",
    "            self.append(item)\n",
    "        else:\n",
    "            #指针cur、count指向头结点\n",
    "            pre = self._head\n",
    "            count = 0\n",
    "            node = Node(item)            \n",
    "            while count < (pos-1):\n",
    "                pre = pre.next\n",
    "                count += 1\n",
    "            node.next = pre.next\n",
    "            pre.next = node\n",
    "          \n",
    "\n",
    "        \n",
    "        \n",
    "        \n",
    "    def remove(self, item):\n",
    "        #如果是空链表，return后退出\n",
    "        if self.is_empty():\n",
    "            return\n",
    "        pre = None\n",
    "        cur = self._head     \n",
    "        #如果最后一个元素是要查找的，后续还会继续判断，是否是要找的（当然也包括只有一个元素的情况）\n",
    "        while cur.next != self._head:\n",
    "            if cur.elem == item:\n",
    "                print('找到了元素')\n",
    "                #如果是头结点，需要找到尾节点rear的next，并将rear.next指向新的头部self._head.next\n",
    "                if cur == self._head:\n",
    "                    print('是头结点')\n",
    "                    rear  = self._head\n",
    "                    while rear.next != self._head:\n",
    "                        rear = rear.next\n",
    "                    #退出while后，rear指向尾节点,pre指向倒数第二个，将pre.next指向新的头部\n",
    "                    #并将头指向新的头self._head.next\n",
    "                    self._head = self._head.next\n",
    "                    rear.next = self._head\n",
    "                #如果不是头结点，pre.next指向cur.next    \n",
    "                else:\n",
    "                    pre.next = cur.next\n",
    "                #如果找到了，退出remove\n",
    "                break    #此时填break后，还会执行下面的，会报错   删除头节点后，pre指向为空\n",
    "            print(cur.elem)\n",
    "            #找不到话，继续寻找\n",
    "            pre = cur\n",
    "            cur = cur.next\n",
    "        #判断最后一个元素（当然也包括只有一个元素的情况）\n",
    "        if cur.elem == item:\n",
    "            print('只有一个/最后一个')\n",
    "            #如果只有一个元素，删除后是空链表，将self._head指向None\n",
    "            if cur == self._head:\n",
    "                print('只有一个元素')\n",
    "                self._head = None\n",
    "            #此时cur指向的是最后一个元素，pre指向前一个元素，将pre.next指向头部，即cur.next\n",
    "            else:\n",
    "                print('删除尾节点')\n",
    "                pre.next = cur.next \n",
    "\n",
    "    def remove_lj(self, item):\n",
    "        cur = self._head\n",
    "        if not self.is_empty():\n",
    "            #如果第一个元素就是要删除的\n",
    "            if cur.elem == item:\n",
    "                print('第一个元素是要找的')\n",
    "                if self.length() == 1:\n",
    "                    self._head = None\n",
    "                #找到尾节点，将尾节点指向新头部\n",
    "                else:\n",
    "                    rear = self._head.next\n",
    "                    while rear.next !=  self._head:\n",
    "                        rear = rear.next\n",
    "                    print('退出后，元素是：', rear.elem)\n",
    "                    rear.next = self._head.next\n",
    "                    self._head = self._head.next\n",
    "            else:\n",
    "                print('不是第一个')\n",
    "                prev = cur\n",
    "                cur = cur.next\n",
    "                while cur.next != self._head:\n",
    "                    if cur.elem == item:\n",
    "                        prev.next = cur.next\n",
    "                    #如果找到了元素，退出while循环    \n",
    "                        break\n",
    "                    else:\n",
    "                        prev = cur\n",
    "                        cur = cur.next                \n",
    "                #退出后，cur指向最后一个元素，判断是否要删除最后一个元素\n",
    "                if cur.elem == item:\n",
    "                    prev.next = self._head\n",
    "            \n",
    "                \n",
    "    def search(self, item):\n",
    "        cur = self._head\n",
    "        while cur.next != self._head:\n",
    "            if cur.elem == item:\n",
    "                return True\n",
    "            else:\n",
    "                cur = cur.next\n",
    "        if cur.elem == item:\n",
    "            return True\n",
    "        return False                 \n",
    "                \n",
    "    \n",
    "if __name__ == \"__main__\":\n",
    "    m = SingleCycleLink()\n",
    "    m.add(1)\n",
    "    m.add(1)\n",
    "\n",
    "    m.append(2)\n",
    "    m.append(3)\n",
    "    m.append(4)\n",
    "    m.append(5)\n",
    "    m.add(0)\n",
    "    print('length:', m.length())\n",
    "    m.travel()\n"
   ]
  },
  {
   "cell_type": "code",
   "execution_count": 106,
   "metadata": {},
   "outputs": [
    {
     "name": "stdout",
     "output_type": "stream",
     "text": [
      "找到了元素\n",
      "是头结点\n",
      "只有一个/最后一个\n",
      "删除尾节点\n"
     ]
    },
    {
     "ename": "AttributeError",
     "evalue": "'NoneType' object has no attribute 'next'",
     "output_type": "error",
     "traceback": [
      "\u001b[1;31m---------------------------------------------------------------------------\u001b[0m",
      "\u001b[1;31mAttributeError\u001b[0m                            Traceback (most recent call last)",
      "\u001b[1;32m<ipython-input-106-a87c43c05a78>\u001b[0m in \u001b[0;36m<module>\u001b[1;34m()\u001b[0m\n\u001b[1;32m----> 1\u001b[1;33m \u001b[0mm\u001b[0m\u001b[1;33m.\u001b[0m\u001b[0mremove\u001b[0m\u001b[1;33m(\u001b[0m\u001b[1;36m0\u001b[0m\u001b[1;33m)\u001b[0m\u001b[1;33m\u001b[0m\u001b[0m\n\u001b[0m",
      "\u001b[1;32m<ipython-input-105-0d34d9172789>\u001b[0m in \u001b[0;36mremove\u001b[1;34m(self, item)\u001b[0m\n\u001b[0;32m    126\u001b[0m             \u001b[1;32melse\u001b[0m\u001b[1;33m:\u001b[0m\u001b[1;33m\u001b[0m\u001b[0m\n\u001b[0;32m    127\u001b[0m                 \u001b[0mprint\u001b[0m\u001b[1;33m(\u001b[0m\u001b[1;34m'删除尾节点'\u001b[0m\u001b[1;33m)\u001b[0m\u001b[1;33m\u001b[0m\u001b[0m\n\u001b[1;32m--> 128\u001b[1;33m                 \u001b[0mpre\u001b[0m\u001b[1;33m.\u001b[0m\u001b[0mnext\u001b[0m \u001b[1;33m=\u001b[0m \u001b[0mcur\u001b[0m\u001b[1;33m.\u001b[0m\u001b[0mnext\u001b[0m\u001b[1;33m\u001b[0m\u001b[0m\n\u001b[0m\u001b[0;32m    129\u001b[0m \u001b[1;33m\u001b[0m\u001b[0m\n\u001b[0;32m    130\u001b[0m     \u001b[1;32mdef\u001b[0m \u001b[0mremove_lj\u001b[0m\u001b[1;33m(\u001b[0m\u001b[0mself\u001b[0m\u001b[1;33m,\u001b[0m \u001b[0mitem\u001b[0m\u001b[1;33m)\u001b[0m\u001b[1;33m:\u001b[0m\u001b[1;33m\u001b[0m\u001b[0m\n",
      "\u001b[1;31mAttributeError\u001b[0m: 'NoneType' object has no attribute 'next'"
     ]
    }
   ],
   "source": [
    "m.remove(0)"
   ]
  },
  {
   "cell_type": "code",
   "execution_count": 101,
   "metadata": {},
   "outputs": [
    {
     "name": "stdout",
     "output_type": "stream",
     "text": [
      "0 1 1 2 4 5\n"
     ]
    }
   ],
   "source": [
    "m.travel()"
   ]
  },
  {
   "cell_type": "code",
   "execution_count": 102,
   "metadata": {},
   "outputs": [
    {
     "name": "stdout",
     "output_type": "stream",
     "text": [
      "0\n",
      "1\n",
      "1\n",
      "2\n",
      "4\n",
      "只有一个/最后一个\n",
      "删除尾节点\n"
     ]
    }
   ],
   "source": [
    "m.remove(5)"
   ]
  },
  {
   "cell_type": "code",
   "execution_count": 103,
   "metadata": {},
   "outputs": [
    {
     "name": "stdout",
     "output_type": "stream",
     "text": [
      "0 1 1 2 4\n"
     ]
    }
   ],
   "source": [
    "m.travel()"
   ]
  },
  {
   "cell_type": "code",
   "execution_count": 104,
   "metadata": {},
   "outputs": [
    {
     "name": "stdout",
     "output_type": "stream",
     "text": [
      "0\n",
      "1\n",
      "1\n",
      "2\n"
     ]
    }
   ],
   "source": [
    "m.remove(5)"
   ]
  },
  {
   "cell_type": "code",
   "execution_count": 87,
   "metadata": {},
   "outputs": [
    {
     "name": "stdout",
     "output_type": "stream",
     "text": [
      "1 1 2 4\n"
     ]
    }
   ],
   "source": [
    "m.travel()"
   ]
  },
  {
   "cell_type": "code",
   "execution_count": 1,
   "metadata": {},
   "outputs": [
    {
     "data": {
      "text/plain": [
       "[1, 2, 3, 4]"
      ]
     },
     "execution_count": 1,
     "metadata": {},
     "output_type": "execute_result"
    }
   ],
   "source": [
    "a = [1,2,3,4]\n",
    "a"
   ]
  },
  {
   "cell_type": "code",
   "execution_count": 2,
   "metadata": {},
   "outputs": [
    {
     "data": {
      "text/plain": [
       "4"
      ]
     },
     "execution_count": 2,
     "metadata": {},
     "output_type": "execute_result"
    }
   ],
   "source": [
    "a.pop()"
   ]
  },
  {
   "cell_type": "code",
   "execution_count": null,
   "metadata": {},
   "outputs": [],
   "source": []
  }
 ],
 "metadata": {
  "kernelspec": {
   "display_name": "Python 3",
   "language": "python",
   "name": "python3"
  },
  "language_info": {
   "codemirror_mode": {
    "name": "ipython",
    "version": 3
   },
   "file_extension": ".py",
   "mimetype": "text/x-python",
   "name": "python",
   "nbconvert_exporter": "python",
   "pygments_lexer": "ipython3",
   "version": "3.7.6"
  },
  "toc": {
   "base_numbering": 1,
   "nav_menu": {},
   "number_sections": true,
   "sideBar": true,
   "skip_h1_title": false,
   "title_cell": "Table of Contents",
   "title_sidebar": "Contents",
   "toc_cell": false,
   "toc_position": {},
   "toc_section_display": true,
   "toc_window_display": false
  }
 },
 "nbformat": 4,
 "nbformat_minor": 2
}
