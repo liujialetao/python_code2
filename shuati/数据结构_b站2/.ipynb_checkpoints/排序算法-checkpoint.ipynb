{
 "cells": [
  {
   "cell_type": "code",
   "execution_count": 38,
   "metadata": {},
   "outputs": [],
   "source": [
    "#冒泡排序\n",
    "def bubble_list(alist):\n",
    "    #计算列表长度\n",
    "    n = len(alist)    \n",
    "    for i in range(n-1):\n",
    "        count = 0\n",
    "        for j in range(n-1-i):\n",
    "            if alist[j]>alist[j+1]:\n",
    "                alist[j], alist[j+1] = alist[j+1], alist[j]\n",
    "                count += 1\n",
    "        print('第{}轮的结果是:{}'.format(i+1, alist))\n",
    "        if count == 0:\n",
    "            break\n",
    "    return alist    "
   ]
  },
  {
   "cell_type": "code",
   "execution_count": 39,
   "metadata": {},
   "outputs": [
    {
     "name": "stdout",
     "output_type": "stream",
     "text": [
      "第1轮的结果是:[84, 10, 45, 0, 1, 2, 3, 4, 85]\n",
      "第2轮的结果是:[10, 45, 0, 1, 2, 3, 4, 84, 85]\n",
      "第3轮的结果是:[10, 0, 1, 2, 3, 4, 45, 84, 85]\n",
      "第4轮的结果是:[0, 1, 2, 3, 4, 10, 45, 84, 85]\n",
      "第5轮的结果是:[0, 1, 2, 3, 4, 10, 45, 84, 85]\n"
     ]
    },
    {
     "data": {
      "text/plain": [
       "[0, 1, 2, 3, 4, 10, 45, 84, 85]"
      ]
     },
     "execution_count": 39,
     "metadata": {},
     "output_type": "execute_result"
    }
   ],
   "source": [
    "a = [84,85,10,45,0,1,2,3,4]\n",
    "bubble_list(a)"
   ]
  },
  {
   "cell_type": "code",
   "execution_count": 40,
   "metadata": {},
   "outputs": [],
   "source": [
    "#选择排序法\n",
    "def select_sort(alist):\n",
    "    n = len(alist)\n",
    "    for i in range(n-1):\n",
    "        print('第{}轮'.format(i+1),end = '\\t')\n",
    "        min_index = i\n",
    "        for j in range(i+1, n):\n",
    "            if alist[j] < alist[min_index]:            \n",
    "                k_min = j\n",
    "        alist[i], alist[min_index] = alist[min_index], alist[i]\n",
    "        print('调整后：',alist)\n",
    "    return alist"
   ]
  },
  {
   "cell_type": "code",
   "execution_count": 41,
   "metadata": {},
   "outputs": [
    {
     "name": "stdout",
     "output_type": "stream",
     "text": [
      "第1轮\t调整后： [0, 1, 2, 3, 4, 10, 45, 84, 85]\n",
      "第2轮\t调整后： [0, 1, 2, 3, 4, 10, 45, 84, 85]\n",
      "第3轮\t调整后： [0, 1, 2, 3, 4, 10, 45, 84, 85]\n",
      "第4轮\t调整后： [0, 1, 2, 3, 4, 10, 45, 84, 85]\n",
      "第5轮\t调整后： [0, 1, 2, 3, 4, 10, 45, 84, 85]\n",
      "第6轮\t调整后： [0, 1, 2, 3, 4, 10, 45, 84, 85]\n",
      "第7轮\t调整后： [0, 1, 2, 3, 4, 10, 45, 84, 85]\n",
      "第8轮\t调整后： [0, 1, 2, 3, 4, 10, 45, 84, 85]\n"
     ]
    },
    {
     "data": {
      "text/plain": [
       "[0, 1, 2, 3, 4, 10, 45, 84, 85]"
      ]
     },
     "execution_count": 41,
     "metadata": {},
     "output_type": "execute_result"
    }
   ],
   "source": [
    "select_sort(a)"
   ]
  },
  {
   "cell_type": "code",
   "execution_count": 83,
   "metadata": {},
   "outputs": [
    {
     "data": {
      "text/plain": [
       "[0, 1, 2, 3, 4, 5, 6, 7, 8, 9]"
      ]
     },
     "execution_count": 83,
     "metadata": {},
     "output_type": "execute_result"
    }
   ],
   "source": [
    "a1 = [i for i in range(0,10)]\n",
    "a1"
   ]
  },
  {
   "cell_type": "code",
   "execution_count": 84,
   "metadata": {},
   "outputs": [
    {
     "data": {
      "text/plain": [
       "[1, 2, 3, 4, 5, 6, 7, 8, 9, 10]"
      ]
     },
     "execution_count": 84,
     "metadata": {},
     "output_type": "execute_result"
    }
   ],
   "source": [
    "b1 = [i for i in range(1,11)]\n",
    "b1"
   ]
  },
  {
   "cell_type": "code",
   "execution_count": 79,
   "metadata": {},
   "outputs": [],
   "source": [
    "#插入排序法\n",
    "def insert_sort(alist):\n",
    "    n = len(alist)\n",
    "    for i in range(1, n):    \n",
    "        for j in range(i, 0, -1):\n",
    "            if a[j]<a[j-1]:\n",
    "                a[j], a[j-1] = a[j-1],a[j]\n",
    "                print('a[j], a[j-1]',a[j], a[j-1])\n",
    "        print(i,'~~~',alist, '\\n ')\n",
    "    return alist"
   ]
  },
  {
   "cell_type": "code",
   "execution_count": 80,
   "metadata": {},
   "outputs": [
    {
     "data": {
      "text/plain": [
       "[84, 10, 45, 0, 1, 2, 3, 4]"
      ]
     },
     "execution_count": 80,
     "metadata": {},
     "output_type": "execute_result"
    }
   ],
   "source": [
    "a = [84,10,45,0,1,2,3,4]\n",
    "a"
   ]
  },
  {
   "cell_type": "code",
   "execution_count": 81,
   "metadata": {},
   "outputs": [
    {
     "name": "stdout",
     "output_type": "stream",
     "text": [
      "a[j], a[j-1] 84 10\n",
      "1 ~~~ [10, 84, 45, 0, 1, 2, 3, 4] \n",
      " \n",
      "a[j], a[j-1] 84 45\n",
      "2 ~~~ [10, 45, 84, 0, 1, 2, 3, 4] \n",
      " \n",
      "a[j], a[j-1] 84 0\n",
      "a[j], a[j-1] 45 0\n",
      "a[j], a[j-1] 10 0\n",
      "3 ~~~ [0, 10, 45, 84, 1, 2, 3, 4] \n",
      " \n",
      "a[j], a[j-1] 84 1\n",
      "a[j], a[j-1] 45 1\n",
      "a[j], a[j-1] 10 1\n",
      "4 ~~~ [0, 1, 10, 45, 84, 2, 3, 4] \n",
      " \n",
      "a[j], a[j-1] 84 2\n",
      "a[j], a[j-1] 45 2\n",
      "a[j], a[j-1] 10 2\n",
      "5 ~~~ [0, 1, 2, 10, 45, 84, 3, 4] \n",
      " \n",
      "a[j], a[j-1] 84 3\n",
      "a[j], a[j-1] 45 3\n",
      "a[j], a[j-1] 10 3\n",
      "6 ~~~ [0, 1, 2, 3, 10, 45, 84, 4] \n",
      " \n",
      "a[j], a[j-1] 84 4\n",
      "a[j], a[j-1] 45 4\n",
      "a[j], a[j-1] 10 4\n",
      "7 ~~~ [0, 1, 2, 3, 4, 10, 45, 84] \n",
      " \n"
     ]
    },
    {
     "data": {
      "text/plain": [
       "[0, 1, 2, 3, 4, 10, 45, 84]"
      ]
     },
     "execution_count": 81,
     "metadata": {},
     "output_type": "execute_result"
    }
   ],
   "source": [
    "insert_sort(a)"
   ]
  },
  {
   "cell_type": "code",
   "execution_count": null,
   "metadata": {},
   "outputs": [],
   "source": [
    "def shell_sort(alist):\n",
    "    n = len(alist)\n",
    "    gap = n//2\n",
    "    for i in range()\n",
    "    if alist[i] < alist[i-gap]:\n",
    "        alist[i], alist[i-gap] = alist[i-gap], alist[i]\n",
    "    "
   ]
  },
  {
   "cell_type": "code",
   "execution_count": 2,
   "metadata": {},
   "outputs": [
    {
     "data": {
      "text/plain": [
       "4"
      ]
     },
     "execution_count": 2,
     "metadata": {},
     "output_type": "execute_result"
    }
   ],
   "source": [
    "9//2"
   ]
  },
  {
   "cell_type": "code",
   "execution_count": null,
   "metadata": {},
   "outputs": [],
   "source": []
  }
 ],
 "metadata": {
  "kernelspec": {
   "display_name": "Python 3",
   "language": "python",
   "name": "python3"
  },
  "language_info": {
   "codemirror_mode": {
    "name": "ipython",
    "version": 3
   },
   "file_extension": ".py",
   "mimetype": "text/x-python",
   "name": "python",
   "nbconvert_exporter": "python",
   "pygments_lexer": "ipython3",
   "version": "3.6.4"
  },
  "toc": {
   "base_numbering": 1,
   "nav_menu": {},
   "number_sections": true,
   "sideBar": true,
   "skip_h1_title": false,
   "title_cell": "Table of Contents",
   "title_sidebar": "Contents",
   "toc_cell": false,
   "toc_position": {},
   "toc_section_display": true,
   "toc_window_display": false
  }
 },
 "nbformat": 4,
 "nbformat_minor": 2
}
